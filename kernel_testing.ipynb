{
 "cells": [
  {
   "cell_type": "markdown",
   "id": "f2a68cbd-2ea6-4624-83ee-1d8a8e5b3f16",
   "metadata": {},
   "source": [
    "Testing OpenCL (.cl) kernels by loading them into Python within a Jupyter notebook and using pyOpenCL module"
   ]
  },
  {
   "cell_type": "markdown",
   "id": "0b62afdd-19c1-4b58-a6ca-2f86dc4c1701",
   "metadata": {},
   "source": [
    "1. Load .cl File: Read the OpenCL kernel from a .cl file into a Python string using file I/O operations.\n",
    "\n",
    "2. Initialize OpenCL: Use pyopencl to select an OpenCL platform and device, creating a context and command queue.\n",
    "\n",
    "3. Compile Kernel: Compile the kernel code within the notebook environment, addressing any compilation issues.\n",
    "\n",
    "4. Prepare Data: Allocate memory for input and output data on the device using OpenCL buffers and transfer input data to the device.\n",
    "\n",
    "5. Execute Kernel: Enqueue the kernel for execution, specifying the number of work items and groups, and wait for completion.\n",
    "\n",
    "6. Read Results: Retrieve output data from the device to the host and analyze for correctness.\n",
    "\n",
    "7. Cleanup: Release OpenCL resources like buffers and context."
   ]
  },
  {
   "cell_type": "markdown",
   "id": "94f6e65f-ea7f-483c-b4c3-9f1d5513d40e",
   "metadata": {},
   "source": [
    "Install required pyopencl kernel"
   ]
  },
  {
   "cell_type": "code",
   "execution_count": 7,
   "id": "8d5c66c6-cb5d-4948-9371-a9580fa658c0",
   "metadata": {},
   "outputs": [
    {
     "name": "stdout",
     "output_type": "stream",
     "text": [
      "/home/chandu/.local/lib/python3.8/site-packages/pkg_resources/__init__.py:123: PkgResourcesDeprecationWarning: 0.1.36ubuntu1 is an invalid version and will not be supported in a future release\n",
      "  warnings.warn(\n",
      "/home/chandu/.local/lib/python3.8/site-packages/pkg_resources/__init__.py:123: PkgResourcesDeprecationWarning: 0.23ubuntu1 is an invalid version and will not be supported in a future release\n",
      "  warnings.warn(\n",
      "Requirement already satisfied: pyopencl in /home/chandu/.local/lib/python3.8/site-packages (2024.1)\n",
      "Requirement already satisfied: numpy in /home/chandu/.local/lib/python3.8/site-packages (from pyopencl) (1.22.0)\n",
      "Requirement already satisfied: pytools>=2021.2.7 in /home/chandu/.local/lib/python3.8/site-packages (from pyopencl) (2024.1.1)\n",
      "Requirement already satisfied: platformdirs>=2.2.0 in /home/chandu/.local/lib/python3.8/site-packages (from pyopencl) (4.2.0)\n",
      "Requirement already satisfied: typing-extensions>=4.0; python_version < \"3.11\" in /home/chandu/.local/lib/python3.8/site-packages (from pytools>=2021.2.7->pyopencl) (4.4.0)\n"
     ]
    }
   ],
   "source": [
    "!pip install pyopencl"
   ]
  },
  {
   "cell_type": "markdown",
   "id": "bd8a9f00-e9c3-4562-bb51-564ae5bdd757",
   "metadata": {},
   "source": [
    "Test environment by printing the environment\n",
    "\n",
    "Example output:\n",
    "\n",
    "Number of platforms                      2\n",
    "Platform Name                            Intel(R) OpenCL HD Graphics\n",
    "Platform Vendor                          Intel(R) Corporation\n",
    "Platform Version                         OpenCL 2.1"
   ]
  },
  {
   "cell_type": "code",
   "execution_count": 8,
   "id": "7ca06663-c210-4041-ad4f-d9f2be7c0e93",
   "metadata": {},
   "outputs": [
    {
     "name": "stdout",
     "output_type": "stream",
     "text": [
      "Number of platforms                               2\n",
      "  Platform Name                                   Intel(R) OpenCL HD Graphics\n",
      "  Platform Vendor                                 Intel(R) Corporation\n",
      "  Platform Version                                OpenCL 2.1 \n",
      "  Platform Profile                                FULL_PROFILE\n",
      "  Platform Extensions                             cl_khr_byte_addressable_store cl_khr_fp16 cl_khr_global_int32_base_atomics cl_khr_global_int32_extended_atomics cl_khr_icd cl_khr_local_int32_base_atomics cl_khr_local_int32_extended_atomics cl_intel_subgroups cl_intel_required_subgroup_size cl_intel_subgroups_short cl_khr_spir cl_intel_accelerator cl_intel_driver_diagnostics cl_khr_priority_hints cl_khr_throttle_hints cl_khr_create_command_queue cl_intel_subgroups_char cl_intel_subgroups_long cl_khr_fp64 cl_khr_subgroups cl_khr_il_program cl_intel_spirv_device_side_avc_motion_estimation cl_intel_spirv_media_block_io cl_intel_spirv_subgroups cl_khr_spirv_no_integer_wrap_decoration cl_intel_unified_shared_memory_preview cl_khr_mipmap_image cl_khr_mipmap_image_writes cl_intel_planar_yuv cl_intel_packed_yuv cl_intel_motion_estimation cl_intel_device_side_avc_motion_estimation cl_intel_advanced_motion_estimation cl_khr_int64_base_atomics cl_khr_int64_extended_atomics cl_khr_image2d_from_buffer cl_khr_depth_images cl_intel_media_block_io cl_khr_3d_image_writes cl_intel_va_api_media_sharing \n",
      "  Platform Host timer resolution                  1ns\n",
      "  Platform Extensions function suffix             INTEL\n",
      "\n",
      "  Platform Name                                   Portable Computing Language\n",
      "  Platform Vendor                                 The pocl project\n",
      "  Platform Version                                OpenCL 1.2 pocl 1.4, None+Asserts, LLVM 9.0.1, RELOC, SLEEF, DISTRO, POCL_DEBUG\n",
      "  Platform Profile                                FULL_PROFILE\n",
      "  Platform Extensions                             cl_khr_icd\n",
      "  Platform Extensions function suffix             POCL\n",
      "\n",
      "  Platform Name                                   Intel(R) OpenCL HD Graphics\n",
      "Number of devices                                 1\n",
      "  Device Name                                     Intel(R) Gen9 HD Graphics NEO\n",
      "  Device Vendor                                   Intel(R) Corporation\n",
      "  Device Vendor ID                                0x8086\n",
      "  Device Version                                  OpenCL 2.1 NEO \n",
      "  Driver Version                                  1.0.0\n",
      "  Device OpenCL C Version                         OpenCL C 2.0 \n",
      "  Device Type                                     GPU\n",
      "  Device Profile                                  FULL_PROFILE\n",
      "  Device Available                                Yes\n",
      "  Compiler Available                              Yes\n",
      "  Linker Available                                Yes\n",
      "  Max compute units                               23\n",
      "  Max clock frequency                             1100MHz\n",
      "  Device Partition                                (core)\n",
      "    Max number of sub-devices                     0\n",
      "    Supported partition types                     None, None\n",
      "    Supported affinity domains                    (n/a)\n",
      "  Max work item dimensions                        3\n",
      "  Max work item sizes                             256x256x256\n",
      "  Max work group size                             256\n",
      "  Preferred work group size multiple              32\n",
      "  Max sub-groups per work group                   32\n",
      "  Sub-group sizes (Intel)                         8, 16, 32\n",
      "  Preferred / native vector sizes                 \n",
      "    char                                                16 / 16      \n",
      "    short                                                8 / 8       \n",
      "    int                                                  4 / 4       \n",
      "    long                                                 1 / 1       \n",
      "    half                                                 8 / 8        (cl_khr_fp16)\n",
      "    float                                                1 / 1       \n",
      "    double                                               1 / 1        (cl_khr_fp64)\n",
      "  Half-precision Floating-point support           (cl_khr_fp16)\n",
      "    Denormals                                     Yes\n",
      "    Infinity and NANs                             Yes\n",
      "    Round to nearest                              Yes\n",
      "    Round to zero                                 Yes\n",
      "    Round to infinity                             Yes\n",
      "    IEEE754-2008 fused multiply-add               Yes\n",
      "    Support is emulated in software               No\n",
      "  Single-precision Floating-point support         (core)\n",
      "    Denormals                                     Yes\n",
      "    Infinity and NANs                             Yes\n",
      "    Round to nearest                              Yes\n",
      "    Round to zero                                 Yes\n",
      "    Round to infinity                             Yes\n",
      "    IEEE754-2008 fused multiply-add               Yes\n",
      "    Support is emulated in software               No\n",
      "    Correctly-rounded divide and sqrt operations  Yes\n",
      "  Double-precision Floating-point support         (cl_khr_fp64)\n",
      "    Denormals                                     Yes\n",
      "    Infinity and NANs                             Yes\n",
      "    Round to nearest                              Yes\n",
      "    Round to zero                                 Yes\n",
      "    Round to infinity                             Yes\n",
      "    IEEE754-2008 fused multiply-add               Yes\n",
      "    Support is emulated in software               No\n",
      "  Address bits                                    64, Little-Endian\n",
      "  Global memory size                              13279309824 (12.37GiB)\n",
      "  Error Correction support                        No\n",
      "  Max memory allocation                           4294959104 (4GiB)\n",
      "  Unified memory for Host and Device              Yes\n",
      "  Shared Virtual Memory (SVM) capabilities        (core)\n",
      "    Coarse-grained buffer sharing                 Yes\n",
      "    Fine-grained buffer sharing                   No\n",
      "    Fine-grained system sharing                   No\n",
      "    Atomics                                       No\n",
      "  Minimum alignment for any data type             128 bytes\n",
      "  Alignment of base address                       1024 bits (128 bytes)\n",
      "  Preferred alignment for atomics                 \n",
      "    SVM                                           64 bytes\n",
      "    Global                                        64 bytes\n",
      "    Local                                         64 bytes\n",
      "  Max size for global variable                    65536 (64KiB)\n",
      "  Preferred total size of global vars             4294959104 (4GiB)\n",
      "  Global Memory cache type                        Read/Write\n",
      "  Global Memory cache size                        524288 (512KiB)\n",
      "  Global Memory cache line size                   64 bytes\n",
      "  Image support                                   Yes\n",
      "    Max number of samplers per kernel             16\n",
      "    Max size for 1D images from buffer            268434944 pixels\n",
      "    Max 1D or 2D image array size                 2048 images\n",
      "    Base address alignment for 2D image buffers   4 bytes\n",
      "    Pitch alignment for 2D image buffers          4 pixels\n",
      "    Max 2D image size                             16384x16384 pixels\n",
      "    Max planar YUV image size                     16384x16352 pixels\n",
      "    Max 3D image size                             16384x16384x2048 pixels\n",
      "    Max number of read image args                 128\n",
      "    Max number of write image args                128\n",
      "    Max number of read/write image args           128\n",
      "  Max number of pipe args                         16\n",
      "  Max active pipe reservations                    1\n",
      "  Max pipe packet size                            1024\n",
      "  Local memory type                               Local\n",
      "  Local memory size                               65536 (64KiB)\n",
      "  Max number of constant args                     8\n",
      "  Max constant buffer size                        4294959104 (4GiB)\n",
      "  Max size of kernel argument                     1024\n",
      "  Queue properties (on host)                      \n",
      "    Out-of-order execution                        Yes\n",
      "    Profiling                                     Yes\n",
      "  Queue properties (on device)                    \n",
      "    Out-of-order execution                        Yes\n",
      "    Profiling                                     Yes\n",
      "    Preferred size                                131072 (128KiB)\n",
      "    Max size                                      67108864 (64MiB)\n",
      "  Max queues on device                            1\n",
      "  Max events on device                            1024\n",
      "  Prefer user sync for interop                    Yes\n",
      "  Profiling timer resolution                      83ns\n",
      "  Execution capabilities                          \n",
      "    Run OpenCL kernels                            Yes\n",
      "    Run native kernels                            No\n",
      "    Sub-group independent forward progress        Yes\n",
      "    IL version                                    SPIR-V_1.2 \n",
      "    SPIR versions                                 1.2 \n",
      "  printf() buffer size                            4194304 (4MiB)\n",
      "  Built-in kernels                                block_motion_estimate_intel;block_advanced_motion_estimate_check_intel;block_advanced_motion_estimate_bidirectional_check_intel;\n",
      "  Motion Estimation accelerator version (Intel)   2\n",
      "    Device-side AVC Motion Estimation version     1\n",
      "      Supports texture sampler use                Yes\n",
      "      Supports preemption                         No\n",
      "  Device Extensions                               cl_khr_byte_addressable_store cl_khr_fp16 cl_khr_global_int32_base_atomics cl_khr_global_int32_extended_atomics cl_khr_icd cl_khr_local_int32_base_atomics cl_khr_local_int32_extended_atomics cl_intel_subgroups cl_intel_required_subgroup_size cl_intel_subgroups_short cl_khr_spir cl_intel_accelerator cl_intel_driver_diagnostics cl_khr_priority_hints cl_khr_throttle_hints cl_khr_create_command_queue cl_intel_subgroups_char cl_intel_subgroups_long cl_khr_fp64 cl_khr_subgroups cl_khr_il_program cl_intel_spirv_device_side_avc_motion_estimation cl_intel_spirv_media_block_io cl_intel_spirv_subgroups cl_khr_spirv_no_integer_wrap_decoration cl_intel_unified_shared_memory_preview cl_khr_mipmap_image cl_khr_mipmap_image_writes cl_intel_planar_yuv cl_intel_packed_yuv cl_intel_motion_estimation cl_intel_device_side_avc_motion_estimation cl_intel_advanced_motion_estimation cl_khr_int64_base_atomics cl_khr_int64_extended_atomics cl_khr_image2d_from_buffer cl_khr_depth_images cl_intel_media_block_io cl_khr_3d_image_writes cl_intel_va_api_media_sharing \n",
      "\n",
      "  Platform Name                                   Portable Computing Language\n",
      "Number of devices                                 1\n",
      "  Device Name                                     pthread-Intel(R) Core(TM) i5-10400 CPU @ 2.90GHz\n",
      "  Device Vendor                                   GenuineIntel\n",
      "  Device Vendor ID                                0x6c636f70\n",
      "  Device Version                                  OpenCL 1.2 pocl HSTR: pthread-x86_64-pc-linux-gnu-skylake\n",
      "  Driver Version                                  1.4\n",
      "  Device OpenCL C Version                         OpenCL C 1.2 pocl\n",
      "  Device Type                                     CPU\n",
      "  Device Profile                                  FULL_PROFILE\n",
      "  Device Available                                Yes\n",
      "  Compiler Available                              Yes\n",
      "  Linker Available                                Yes\n",
      "  Max compute units                               12\n",
      "  Max clock frequency                             4300MHz\n",
      "  Device Partition                                (core)\n",
      "    Max number of sub-devices                     12\n",
      "    Supported partition types                     equally, by counts\n",
      "    Supported affinity domains                    (n/a)\n",
      "  Max work item dimensions                        3\n",
      "  Max work item sizes                             4096x4096x4096\n",
      "  Max work group size                             4096\n",
      "  Preferred work group size multiple              8\n",
      "  Preferred / native vector sizes                 \n",
      "    char                                                16 / 16      \n",
      "    short                                               16 / 16      \n",
      "    int                                                  8 / 8       \n",
      "    long                                                 4 / 4       \n",
      "    half                                                 0 / 0        (n/a)\n",
      "    float                                                8 / 8       \n",
      "    double                                               4 / 4        (cl_khr_fp64)\n",
      "  Half-precision Floating-point support           (n/a)\n",
      "  Single-precision Floating-point support         (core)\n",
      "    Denormals                                     Yes\n",
      "    Infinity and NANs                             Yes\n",
      "    Round to nearest                              Yes\n",
      "    Round to zero                                 Yes\n",
      "    Round to infinity                             Yes\n",
      "    IEEE754-2008 fused multiply-add               Yes\n",
      "    Support is emulated in software               No\n",
      "    Correctly-rounded divide and sqrt operations  Yes\n",
      "  Double-precision Floating-point support         (cl_khr_fp64)\n",
      "    Denormals                                     Yes\n",
      "    Infinity and NANs                             Yes\n",
      "    Round to nearest                              Yes\n",
      "    Round to zero                                 Yes\n",
      "    Round to infinity                             Yes\n",
      "    IEEE754-2008 fused multiply-add               Yes\n",
      "    Support is emulated in software               No\n",
      "  Address bits                                    64, Little-Endian\n",
      "  Global memory size                              14451654656 (13.46GiB)\n",
      "  Error Correction support                        No\n",
      "  Max memory allocation                           4294967296 (4GiB)\n",
      "  Unified memory for Host and Device              Yes\n",
      "  Minimum alignment for any data type             128 bytes\n",
      "  Alignment of base address                       1024 bits (128 bytes)\n",
      "  Global Memory cache type                        Read/Write\n",
      "  Global Memory cache size                        12582912 (12MiB)\n",
      "  Global Memory cache line size                   64 bytes\n",
      "  Image support                                   Yes\n",
      "    Max number of samplers per kernel             16\n",
      "    Max size for 1D images from buffer            268435456 pixels\n",
      "    Max 1D or 2D image array size                 2048 images\n",
      "    Max 2D image size                             16384x16384 pixels\n",
      "    Max 3D image size                             2048x2048x2048 pixels\n",
      "    Max number of read image args                 128\n",
      "    Max number of write image args                128\n",
      "  Local memory type                               Global\n",
      "  Local memory size                               8388608 (8MiB)\n",
      "  Max number of constant args                     8\n",
      "  Max constant buffer size                        8388608 (8MiB)\n",
      "  Max size of kernel argument                     1024\n",
      "  Queue properties                                \n",
      "    Out-of-order execution                        Yes\n",
      "    Profiling                                     Yes\n",
      "  Prefer user sync for interop                    Yes\n",
      "  Profiling timer resolution                      1ns\n",
      "  Execution capabilities                          \n",
      "    Run OpenCL kernels                            Yes\n",
      "    Run native kernels                            Yes\n",
      "  printf() buffer size                            16777216 (16MiB)\n",
      "  Built-in kernels                                (n/a)\n",
      "  Device Extensions                               cl_khr_byte_addressable_store cl_khr_global_int32_base_atomics cl_khr_global_int32_extended_atomics cl_khr_local_int32_base_atomics cl_khr_local_int32_extended_atomics cl_khr_3d_image_writes cl_khr_fp64 cl_khr_int64_base_atomics cl_khr_int64_extended_atomics cl_khr_fp64\n",
      "\n",
      "\n",
      "NULL platform behavior\n",
      "  clGetPlatformInfo(NULL, CL_PLATFORM_NAME, ...)  Intel(R) OpenCL HD Graphics\n",
      "  clGetDeviceIDs(NULL, CL_DEVICE_TYPE_ALL, ...)   Success [INTEL]\n",
      "  clCreateContext(NULL, ...) [default]            Success [INTEL]\n",
      "  clCreateContext(NULL, ...) [other]              Success [POCL]\n",
      "  clCreateContextFromType(NULL, CL_DEVICE_TYPE_DEFAULT)  Success (1)\n",
      "    Platform Name                                 Intel(R) OpenCL HD Graphics\n",
      "    Device Name                                   Intel(R) Gen9 HD Graphics NEO\n",
      "  clCreateContextFromType(NULL, CL_DEVICE_TYPE_CPU)  No devices found in platform\n",
      "  clCreateContextFromType(NULL, CL_DEVICE_TYPE_GPU)  Success (1)\n",
      "    Platform Name                                 Intel(R) OpenCL HD Graphics\n",
      "    Device Name                                   Intel(R) Gen9 HD Graphics NEO\n",
      "  clCreateContextFromType(NULL, CL_DEVICE_TYPE_ACCELERATOR)  No devices found in platform\n",
      "  clCreateContextFromType(NULL, CL_DEVICE_TYPE_CUSTOM)  No devices found in platform\n",
      "  clCreateContextFromType(NULL, CL_DEVICE_TYPE_ALL)  Success (1)\n",
      "    Platform Name                                 Intel(R) OpenCL HD Graphics\n",
      "    Device Name                                   Intel(R) Gen9 HD Graphics NEO\n",
      "\n",
      "ICD loader properties\n",
      "  ICD loader Name                                 OpenCL ICD Loader\n",
      "  ICD loader Vendor                               OCL Icd free software\n",
      "  ICD loader Version                              2.2.11\n",
      "  ICD loader Profile                              OpenCL 2.1\n"
     ]
    }
   ],
   "source": [
    "!clinfo"
   ]
  },
  {
   "cell_type": "markdown",
   "id": "042f8051-ddaf-407b-859a-8621f6b135d4",
   "metadata": {},
   "source": [
    "Import python modules"
   ]
  },
  {
   "cell_type": "code",
   "execution_count": 9,
   "id": "81f44273-c7d8-4978-9c26-506478e1af61",
   "metadata": {},
   "outputs": [],
   "source": [
    "import pyopencl as cl\n",
    "import numpy as np"
   ]
  },
  {
   "cell_type": "markdown",
   "id": "1136d92a-71a2-4b36-baad-15e92f4affb7",
   "metadata": {},
   "source": [
    "Initialize OpenCL: Use pyopencl to select an OpenCL platform and device\n",
    "\n",
    "Example output:\n",
    "\n",
    "[<pyopencl.Device 'Intel(R) Gen9 HD Graphics NEO' on 'Intel(R) OpenCL HD Graphics'"
   ]
  },
  {
   "cell_type": "code",
   "execution_count": 10,
   "id": "6ef76cc3-d629-4602-a658-8dbd3a747b41",
   "metadata": {},
   "outputs": [
    {
     "data": {
      "text/plain": [
       "[<pyopencl.Device 'Intel(R) Gen9 HD Graphics NEO' on 'Intel(R) OpenCL HD Graphics' at 0x2c1d050>]"
      ]
     },
     "execution_count": 10,
     "metadata": {},
     "output_type": "execute_result"
    }
   ],
   "source": [
    "platforms = cl.get_platforms()\n",
    "cpu_devices = [device for device in platforms[0].get_devices(device_type=cl.device_type.GPU)]\n",
    "cpu_devices"
   ]
  },
  {
   "cell_type": "markdown",
   "id": "162b0ad2-f4a2-4481-a189-f33aeafb2644",
   "metadata": {},
   "source": [
    "Creating a context and command queue"
   ]
  },
  {
   "cell_type": "code",
   "execution_count": 11,
   "id": "08a0cc4e-e78e-4a1c-a20f-113114c0826e",
   "metadata": {},
   "outputs": [],
   "source": [
    "context = cl.Context(devices=cpu_devices)\n",
    "\n",
    "# Create a command queue for the target device\n",
    "queue = cl.CommandQueue(context)"
   ]
  },
  {
   "cell_type": "markdown",
   "id": "1533b061-b0fa-445c-ba41-18098cf424e4",
   "metadata": {},
   "source": [
    "Load .cl File: Read the OpenCL kernel from a .cl file into a Python string using file I/O operations"
   ]
  },
  {
   "cell_type": "code",
   "execution_count": 12,
   "id": "008d25f9-37f3-4f03-b37c-f4c69ffe0552",
   "metadata": {},
   "outputs": [],
   "source": [
    "file_name = \"./device/hidden.cl\"  # Replace with the name of your uploaded .cl file\n",
    "with open(file_name, 'r') as file:\n",
    "    kernel_code = file.read()"
   ]
  },
  {
   "cell_type": "markdown",
   "id": "5efe78ff-5cd2-443e-b101-1c488e7245b1",
   "metadata": {},
   "source": [
    "Compile Kernel: Compile the kernel code"
   ]
  },
  {
   "cell_type": "code",
   "execution_count": 13,
   "id": "8434a4d1-bc87-44d9-8972-49e737cbe3a6",
   "metadata": {},
   "outputs": [],
   "source": [
    "program = cl.Program(context, kernel_code).build()"
   ]
  },
  {
   "cell_type": "markdown",
   "id": "73f212c3-8f58-48b6-be47-d7b060c3d191",
   "metadata": {},
   "source": [
    "Initialize inputs to test (test for random inputs) and output to zeros"
   ]
  },
  {
   "cell_type": "code",
   "execution_count": 14,
   "id": "52832c4f-fa6b-4067-95c2-06ecc0a035f4",
   "metadata": {},
   "outputs": [],
   "source": [
    "input_tile_size = 16\n",
    "output_neurons_tile_size = 10\n",
    "\n",
    "# Initialize random data for the input tile and weights\n",
    "input_tile = np.random.rand(input_tile_size).astype(np.float32)\n",
    "weights_tile = np.random.rand(input_tile_size * output_neurons_tile_size).astype(np.float32)\n",
    "\n",
    "output_tile = np.zeros(output_neurons_tile_size).astype(np.float32)"
   ]
  },
  {
   "cell_type": "code",
   "execution_count": 15,
   "id": "3649e852-9fb6-4229-9e48-64511e0acbeb",
   "metadata": {},
   "outputs": [
    {
     "name": "stdout",
     "output_type": "stream",
     "text": [
      "[3.7637806e+00 3.6122487e+00 3.4392455e+00 1.2710684e+31 3.0170782e+00\n",
      " 3.3855731e+00 3.7560067e+00 3.2100291e+00 4.0845985e+00 3.6554635e+00]\n"
     ]
    }
   ],
   "source": [
    "# Create memory buffers\n",
    "input_tile_buf = cl.Buffer(context, cl.mem_flags.READ_ONLY | cl.mem_flags.COPY_HOST_PTR, hostbuf=input_tile)\n",
    "weights_tile_buf = cl.Buffer(context, cl.mem_flags.READ_ONLY | cl.mem_flags.COPY_HOST_PTR, hostbuf=weights_tile)\n",
    "output_tile_buf = cl.Buffer(context, cl.mem_flags.WRITE_ONLY, output_tile.nbytes)\n",
    "\n",
    "# Build the kernel\n",
    "program = cl.Program(context, kernel_code).build()\n",
    "\n",
    "# Execute the kernel\n",
    "global_size = (output_tile.size,)\n",
    "local_size = None\n",
    "program.hidden(queue, global_size, local_size,\n",
    "               input_tile_buf, weights_tile_buf,\n",
    "               np.int32(input_tile_size), np.int32(output_neurons_tile_size),\n",
    "               output_tile_buf)\n",
    "\n",
    "# Read the output buffer back to the host\n",
    "cl.enqueue_copy(queue, output_tile, output_tile_buf)\n",
    "\n",
    "# Output the results\n",
    "print(output_tile)"
   ]
  },
  {
   "cell_type": "code",
   "execution_count": 16,
   "id": "d0f77b1b-7c6a-4c54-9cc5-0bd2e9a9d3f4",
   "metadata": {},
   "outputs": [],
   "source": [
    "def matrix_vector_multiply(input_tile, weights_tile, input_tile_size, output_neurons_tile_size):\n",
    "    # Reshape weights_tile to be a 2D array for matrix multiplication\n",
    "    weights_matrix = weights_tile.reshape((output_neurons_tile_size, input_tile_size))\n",
    "\n",
    "    # Perform matrix-vector multiplication\n",
    "    output_tile = np.dot(weights_matrix, input_tile)\n",
    "\n",
    "    return output_tile"
   ]
  },
  {
   "cell_type": "code",
   "execution_count": 17,
   "id": "ccde5510-2f57-436d-a078-918be138c1fb",
   "metadata": {},
   "outputs": [],
   "source": [
    "test_output = matrix_vector_multiply(input_tile, weights_tile, input_tile_size, output_neurons_tile_size)"
   ]
  },
  {
   "cell_type": "code",
   "execution_count": 18,
   "id": "fa1c3183-ff20-4c60-a267-d0f8bdbe9d0b",
   "metadata": {},
   "outputs": [
    {
     "data": {
      "text/plain": [
       "array([3.7637806, 3.612249 , 3.4392457, 4.4216585, 3.017078 , 3.3855734,\n",
       "       3.7560062, 3.2100291, 4.0845985, 3.6554632], dtype=float32)"
      ]
     },
     "execution_count": 18,
     "metadata": {},
     "output_type": "execute_result"
    }
   ],
   "source": [
    "test_output"
   ]
  }
 ],
 "metadata": {
  "kernelspec": {
   "display_name": "Python 3 (ipykernel)",
   "language": "python",
   "name": "python3"
  },
  "language_info": {
   "codemirror_mode": {
    "name": "ipython",
    "version": 3
   },
   "file_extension": ".py",
   "mimetype": "text/x-python",
   "name": "python",
   "nbconvert_exporter": "python",
   "pygments_lexer": "ipython3",
   "version": "3.10.14"
  }
 },
 "nbformat": 4,
 "nbformat_minor": 5
}
